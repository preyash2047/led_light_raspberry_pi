{
 "cells": [
  {
   "cell_type": "code",
   "execution_count": 2,
   "metadata": {},
   "outputs": [
    {
     "ename": "RuntimeError",
     "evalue": "This module can only be run on a Raspberry Pi!",
     "output_type": "error",
     "traceback": [
      "\u001b[0;31m---------------------------------------------------------------------------\u001b[0m",
      "\u001b[0;31mRuntimeError\u001b[0m                              Traceback (most recent call last)",
      "\u001b[0;32m<ipython-input-2-c3a6c8d07e76>\u001b[0m in \u001b[0;36m<module>\u001b[0;34m\u001b[0m\n\u001b[1;32m      1\u001b[0m \u001b[0;31m# sudo apt-get install python3-rpi.gpio\u001b[0m\u001b[0;34m\u001b[0m\u001b[0;34m\u001b[0m\u001b[0;34m\u001b[0m\u001b[0m\n\u001b[0;32m----> 2\u001b[0;31m \u001b[0;32mimport\u001b[0m \u001b[0mRPi\u001b[0m\u001b[0;34m.\u001b[0m\u001b[0mGPIO\u001b[0m \u001b[0;32mas\u001b[0m \u001b[0mGPIO\u001b[0m\u001b[0;34m\u001b[0m\u001b[0;34m\u001b[0m\u001b[0m\n\u001b[0m\u001b[1;32m      3\u001b[0m \u001b[0;32mfrom\u001b[0m \u001b[0mtime\u001b[0m \u001b[0;32mimport\u001b[0m \u001b[0msleep\u001b[0m\u001b[0;34m\u001b[0m\u001b[0;34m\u001b[0m\u001b[0m\n\u001b[1;32m      4\u001b[0m \u001b[0;34m\u001b[0m\u001b[0m\n\u001b[1;32m      5\u001b[0m \u001b[0mGPIO\u001b[0m\u001b[0;34m.\u001b[0m\u001b[0msetwarnings\u001b[0m\u001b[0;34m(\u001b[0m\u001b[0;32mFalse\u001b[0m\u001b[0;34m)\u001b[0m   \u001b[0;31m# Ignore Warnings\u001b[0m\u001b[0;34m\u001b[0m\u001b[0;34m\u001b[0m\u001b[0m\n",
      "\u001b[0;32m~/anaconda3/envs/p37/lib/python3.7/site-packages/RPi/GPIO/__init__.py\u001b[0m in \u001b[0;36m<module>\u001b[0;34m\u001b[0m\n\u001b[1;32m     21\u001b[0m \"\"\"\n\u001b[1;32m     22\u001b[0m \u001b[0;34m\u001b[0m\u001b[0m\n\u001b[0;32m---> 23\u001b[0;31m \u001b[0;32mfrom\u001b[0m \u001b[0mRPi\u001b[0m\u001b[0;34m.\u001b[0m\u001b[0m_GPIO\u001b[0m \u001b[0;32mimport\u001b[0m \u001b[0;34m*\u001b[0m\u001b[0;34m\u001b[0m\u001b[0;34m\u001b[0m\u001b[0m\n\u001b[0m\u001b[1;32m     24\u001b[0m \u001b[0;34m\u001b[0m\u001b[0m\n\u001b[1;32m     25\u001b[0m \u001b[0mVERSION\u001b[0m \u001b[0;34m=\u001b[0m \u001b[0;34m'0.7.0'\u001b[0m\u001b[0;34m\u001b[0m\u001b[0;34m\u001b[0m\u001b[0m\n",
      "\u001b[0;31mRuntimeError\u001b[0m: This module can only be run on a Raspberry Pi!"
     ]
    }
   ],
   "source": [
    "# sudo apt-get install python3-rpi.gpio\n",
    "import RPi.GPIO as GPIO\n",
    "from time import sleep\n",
    "\n",
    "GPIO.setwarnings(False)   # Ignore Warnings\n",
    "GPIO.setmode(GPIO.BOARD)  # Use Physical Pin Numbering\n",
    "LED1 = 3\n",
    "LED2 = 5\n",
    "GPIO.setup(LED1, GPIO.OUT, initial=GPIO.LOW)\n",
    "GPIO.setup(LED2, GPIO.OUT, initial=GPIO.LOW)\n",
    "counter = 0\n",
    "\n",
    "while True:\n",
    "    if counter % 2 == 0:\n",
    "        led1 = LED1\n",
    "        led2 = LED2\n",
    "    else:\n",
    "        led1 = LED2\n",
    "        led2 = LED1\n",
    "\n",
    "    GPIO.output(led1, GPIO.HIGH)\n",
    "    GPIO.output(led2, GPIO.LOW)\n",
    "    sleep(1)\n",
    "    counter = counter + 1"
   ]
  },
  {
   "cell_type": "code",
   "execution_count": null,
   "metadata": {},
   "outputs": [],
   "source": []
  }
 ],
 "metadata": {
  "kernelspec": {
   "display_name": "Python 3",
   "language": "python",
   "name": "python3"
  },
  "language_info": {
   "codemirror_mode": {
    "name": "ipython",
    "version": 3
   },
   "file_extension": ".py",
   "mimetype": "text/x-python",
   "name": "python",
   "nbconvert_exporter": "python",
   "pygments_lexer": "ipython3",
   "version": "3.7.7"
  }
 },
 "nbformat": 4,
 "nbformat_minor": 4
}
