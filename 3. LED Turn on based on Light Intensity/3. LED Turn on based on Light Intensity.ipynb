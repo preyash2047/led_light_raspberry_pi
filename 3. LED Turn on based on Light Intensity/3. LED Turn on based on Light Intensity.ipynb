{
 "cells": [
  {
   "cell_type": "code",
   "execution_count": null,
   "metadata": {},
   "outputs": [],
   "source": [
    "# sudo apt-get install python3-rpi.gpio\n",
    "import RPi.GPIO as GPIO\n",
    "import time\n",
    "\n",
    "PR1 = 3\n",
    "LED1 = 5\n",
    "\n",
    "GPIO.setwarnings(False)   # Ignore Warnings\n",
    "GPIO.setmode(GPIO.BOARD)  # Use Physical Pin Numbering\n",
    "\n",
    "while True:\n",
    "    GPIO.setup(PR1, GPIO.OUT)\n",
    "    GPIO.output(PR1, GPIO.LOW)\n",
    "    GPIO.setup(PR1, GPIO.IN)\n",
    "    \n",
    "    #led\n",
    "    GPIO.setup(LED1, GPIO.OUT)\n",
    "    GPIO.output(LED1, GPIO.LOW)\n",
    "    if GPIO.input(PR1) == 0:\n",
    "        GPIO.output(LED1, GPIO.HIGH)        "
   ]
  }
 ],
 "metadata": {
  "kernelspec": {
   "display_name": "Python 3",
   "language": "python",
   "name": "python3"
  },
  "language_info": {
   "codemirror_mode": {
    "name": "ipython",
    "version": 3
   },
   "file_extension": ".py",
   "mimetype": "text/x-python",
   "name": "python",
   "nbconvert_exporter": "python",
   "pygments_lexer": "ipython3",
   "version": "3.7.7"
  }
 },
 "nbformat": 4,
 "nbformat_minor": 4
}
