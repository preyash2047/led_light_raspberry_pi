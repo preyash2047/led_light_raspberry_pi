{
 "cells": [
  {
   "cell_type": "code",
   "execution_count": null,
   "metadata": {},
   "outputs": [],
   "source": [
    "# sudo apt-get install python3-rpi.gpio\n",
    "import RPi.GPIO as GPIO\n",
    "from time import sleep\n",
    "\n",
    "GPIO.setwarnings(False)   # Ignore Warnings\n",
    "GPIO.setmode(GPIO.BOARD)  # Use Physical Pin Numbering\n",
    "GPIO.setup(8, GPIO.OUT, initial=GPIO.LOW)\n",
    "GPIO.setup(10, GPIO.OUT, initial=GPIO.LOW)\n",
    "counter = 0\n",
    "\n",
    "while True:\n",
    "    if counter % 2 == 0:\n",
    "        led1 = 8\n",
    "        led2 = 10\n",
    "    else:\n",
    "        led1 = 10\n",
    "        led2 = 8\n",
    "\n",
    "    GPIO.output(led1, GPIO.HIGH)\n",
    "    GPIO.output(led2, GPIO.LOW)\n",
    "    sleep(1)\n",
    "    counter = counter + 1"
   ]
  }
 ],
 "metadata": {
  "kernelspec": {
   "display_name": "Python 3",
   "language": "python",
   "name": "python3"
  },
  "language_info": {
   "codemirror_mode": {
    "name": "ipython",
    "version": 3
   },
   "file_extension": ".py",
   "mimetype": "text/x-python",
   "name": "python",
   "nbconvert_exporter": "python",
   "pygments_lexer": "ipython3",
   "version": "3.8.1"
  }
 },
 "nbformat": 4,
 "nbformat_minor": 4
}
