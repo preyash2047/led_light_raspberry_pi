{
 "cells": [
  {
   "cell_type": "code",
   "execution_count": null,
   "metadata": {},
   "outputs": [],
   "source": [
    "# sudo apt-get install python3-rpi.gpio\n",
    "import RPi.GPIO as GPIO\n",
    "import time\n",
    "\n",
    "led1 = 3\n",
    "led2 = 5\n",
    "led3 = 7\n",
    "led4 = 8\n",
    "led5 = 10\n",
    "led6 = 12\n",
    "\n",
    "led7 = 11\n",
    "led8 = 13\n",
    "led9 = 15\n",
    "led10 = 19\n",
    "led11 = 21\n",
    "led12 = 23\n",
    "led13 = 33\n",
    "led14 = 35\n",
    "led15 = 37\n",
    "\n",
    "\n",
    "GPIO.setwarnings(False)   # Ignore Warnings\n",
    "GPIO.setmode(GPIO.BOARD)  # Use Physical Pin Numbering\n",
    "\n",
    "for i in range(1,16):\n",
    "    GPIO.setup(eval(\"led\"+str(i)), GPIO.OUT, initial=GPIO.LOW)\n",
    "\n",
    "#defining digit1 method\n",
    "def digit1(num):\n",
    "    for i in range(1,7):\n",
    "        GPIO.output(eval(\"led\"+str(i)), GPIO.LOW)\n",
    "    for i in range(1,num+1):\n",
    "        GPIO.output(eval(\"led\"+str(i)), GPIO.HIGH)\n",
    "\n",
    "#defining digit2 method\n",
    "def digit2(num):\n",
    "    for i in range(7,16):\n",
    "        GPIO.output(eval(\"led\"+str(i)), GPIO.LOW)\n",
    "    for i in range(7,num+6+1):\n",
    "        GPIO.output(eval(\"led\"+str(i)), GPIO.HIGH)\n",
    "        \n",
    "while True:\n",
    "    sec = time.ctime(time.time())[-7:-5]\n",
    "    print(sec)\n",
    "    digit1(int(sec[0]))\n",
    "    digit2(int(sec[1]))\n",
    "    time.sleep(1)"
   ]
  },
  {
   "cell_type": "code",
   "execution_count": null,
   "metadata": {},
   "outputs": [],
   "source": []
  }
 ],
 "metadata": {
  "kernelspec": {
   "display_name": "Python 3",
   "language": "python",
   "name": "python3"
  },
  "language_info": {
   "codemirror_mode": {
    "name": "ipython",
    "version": 3
   },
   "file_extension": ".py",
   "mimetype": "text/x-python",
   "name": "python",
   "nbconvert_exporter": "python",
   "pygments_lexer": "ipython3",
   "version": "3.7.7"
  }
 },
 "nbformat": 4,
 "nbformat_minor": 4
}
